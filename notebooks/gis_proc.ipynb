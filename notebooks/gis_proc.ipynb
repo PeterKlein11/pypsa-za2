{
 "cells": [
  {
   "cell_type": "code",
   "execution_count": 29,
   "metadata": {},
   "outputs": [],
   "source": [
    "import geopandas as gpd\n",
    "import pandas as pd\n",
    "import numpy as np"
   ]
  },
  {
   "cell_type": "code",
   "execution_count": 30,
   "metadata": {},
   "outputs": [],
   "source": [
    "gis = gpd.read_file('../data/bundle/Eskom/MTS_Subs2022.shp').to_crs('EPSG:4326')\n",
    "gis.index = gis['Substation']"
   ]
  },
  {
   "cell_type": "code",
   "execution_count": 31,
   "metadata": {},
   "outputs": [],
   "source": [
    "lines = gpd.read_file('../data/bundle/Eskom/Planned_Lines.shp').to_crs('EPSG:2059')"
   ]
  },
  {
   "cell_type": "code",
   "execution_count": 32,
   "metadata": {},
   "outputs": [],
   "source": [
    "def haversine_length(row):\n",
    "    \n",
    "    bus0 = gis.loc[row[\"bus0\"], \"geometry\"]\n",
    "    bus1 = gis.loc[row[\"bus1\"], \"geometry\"]\n",
    "\n",
    "    lon1, lat1, lon2, lat2 = map(np.radians, [bus0.x, bus0.y, bus1.x, bus1.y])\n",
    "    dlon = lon2 - lon1\n",
    "    dlat = lat2 - lat1\n",
    "    a = np.sin(dlat / 2) ** 2 + np.cos(lat1) * np.cos(lat2) * np.sin(dlon / 2) ** 2\n",
    "    c = 2 * np.arcsin(np.sqrt(a))\n",
    "    return c * 6371"
   ]
  },
  {
   "cell_type": "code",
   "execution_count": 33,
   "metadata": {},
   "outputs": [],
   "source": [
    "mts = pd.Series({\n",
    "    \"Upington\":\"Aries\",\n",
    "    \"Ferrum\":\"Upington\",\n",
    "    \"Hydra\":\"Kronos\",\n",
    "    \"Kronos\":\"Aries\",\n",
    "    \"Beta\":\"Boundary\",\n",
    "    \"Boundary\":\"Ferrum\",\n",
    "    \"Gromis\":\"Nama\",\n",
    "    \"Hermes\":\"Mookodi\", \n",
    "    \"Mookodi\":\"Ferrum\",\n",
    "    #\"Aggeneis\":\"Groeipunt\",\n",
    "    \"Aries\":\"Aggeneis\",\n",
    "    \"Paulputs\":\"Aggeneis\",\n",
    "    #\"Droerivier\":\"Narina\" ,\n",
    "    #\"Narina\":\"Gourikwa\",\n",
    "    \"Aurora\":\"Juno\",\n",
    "}).reset_index()\n",
    "mts.columns = [\"bus0\", \"bus1\"]"
   ]
  },
  {
   "cell_type": "code",
   "execution_count": 34,
   "metadata": {},
   "outputs": [],
   "source": [
    "gis = gis.loc[~gis.index.duplicated(keep='first')]"
   ]
  },
  {
   "cell_type": "code",
   "execution_count": 35,
   "metadata": {},
   "outputs": [],
   "source": [
    "mts[\"distance\"] = mts.apply(haversine_length, axis=1)"
   ]
  },
  {
   "cell_type": "code",
   "execution_count": 36,
   "metadata": {},
   "outputs": [
    {
     "data": {
      "text/html": [
       "<div>\n",
       "<style scoped>\n",
       "    .dataframe tbody tr th:only-of-type {\n",
       "        vertical-align: middle;\n",
       "    }\n",
       "\n",
       "    .dataframe tbody tr th {\n",
       "        vertical-align: top;\n",
       "    }\n",
       "\n",
       "    .dataframe thead th {\n",
       "        text-align: right;\n",
       "    }\n",
       "</style>\n",
       "<table border=\"1\" class=\"dataframe\">\n",
       "  <thead>\n",
       "    <tr style=\"text-align: right;\">\n",
       "      <th></th>\n",
       "      <th>bus0</th>\n",
       "      <th>bus1</th>\n",
       "      <th>distance</th>\n",
       "    </tr>\n",
       "  </thead>\n",
       "  <tbody>\n",
       "    <tr>\n",
       "      <th>0</th>\n",
       "      <td>Upington</td>\n",
       "      <td>Aries</td>\n",
       "      <td>110.730462</td>\n",
       "    </tr>\n",
       "    <tr>\n",
       "      <th>1</th>\n",
       "      <td>Ferrum</td>\n",
       "      <td>Upington</td>\n",
       "      <td>209.241691</td>\n",
       "    </tr>\n",
       "    <tr>\n",
       "      <th>2</th>\n",
       "      <td>Hydra</td>\n",
       "      <td>Kronos</td>\n",
       "      <td>184.700244</td>\n",
       "    </tr>\n",
       "    <tr>\n",
       "      <th>3</th>\n",
       "      <td>Kronos</td>\n",
       "      <td>Aries</td>\n",
       "      <td>160.227489</td>\n",
       "    </tr>\n",
       "    <tr>\n",
       "      <th>4</th>\n",
       "      <td>Beta</td>\n",
       "      <td>Boundary</td>\n",
       "      <td>80.259073</td>\n",
       "    </tr>\n",
       "    <tr>\n",
       "      <th>5</th>\n",
       "      <td>Boundary</td>\n",
       "      <td>Ferrum</td>\n",
       "      <td>209.972632</td>\n",
       "    </tr>\n",
       "    <tr>\n",
       "      <th>6</th>\n",
       "      <td>Gromis</td>\n",
       "      <td>Nama</td>\n",
       "      <td>68.108567</td>\n",
       "    </tr>\n",
       "    <tr>\n",
       "      <th>7</th>\n",
       "      <td>Hermes</td>\n",
       "      <td>Mookodi</td>\n",
       "      <td>202.585063</td>\n",
       "    </tr>\n",
       "    <tr>\n",
       "      <th>8</th>\n",
       "      <td>Mookodi</td>\n",
       "      <td>Ferrum</td>\n",
       "      <td>184.886282</td>\n",
       "    </tr>\n",
       "    <tr>\n",
       "      <th>9</th>\n",
       "      <td>Aries</td>\n",
       "      <td>Aggeneis</td>\n",
       "      <td>194.075686</td>\n",
       "    </tr>\n",
       "    <tr>\n",
       "      <th>10</th>\n",
       "      <td>Paulputs</td>\n",
       "      <td>Aggeneis</td>\n",
       "      <td>89.449705</td>\n",
       "    </tr>\n",
       "    <tr>\n",
       "      <th>11</th>\n",
       "      <td>Aurora</td>\n",
       "      <td>Juno</td>\n",
       "      <td>156.837355</td>\n",
       "    </tr>\n",
       "  </tbody>\n",
       "</table>\n",
       "</div>"
      ],
      "text/plain": [
       "        bus0      bus1    distance\n",
       "0   Upington     Aries  110.730462\n",
       "1     Ferrum  Upington  209.241691\n",
       "2      Hydra    Kronos  184.700244\n",
       "3     Kronos     Aries  160.227489\n",
       "4       Beta  Boundary   80.259073\n",
       "5   Boundary    Ferrum  209.972632\n",
       "6     Gromis      Nama   68.108567\n",
       "7     Hermes   Mookodi  202.585063\n",
       "8    Mookodi    Ferrum  184.886282\n",
       "9      Aries  Aggeneis  194.075686\n",
       "10  Paulputs  Aggeneis   89.449705\n",
       "11    Aurora      Juno  156.837355"
      ]
     },
     "execution_count": 36,
     "metadata": {},
     "output_type": "execute_result"
    }
   ],
   "source": [
    "mts"
   ]
  },
  {
   "cell_type": "code",
   "execution_count": 37,
   "metadata": {},
   "outputs": [],
   "source": [
    "lines[\"length\"] = lines.length/1000"
   ]
  },
  {
   "cell_type": "code",
   "execution_count": 38,
   "metadata": {},
   "outputs": [],
   "source": [
    "lines.to_csv(\"lines.csv\")"
   ]
  }
 ],
 "metadata": {
  "kernelspec": {
   "display_name": "pypsa-earth-updated",
   "language": "python",
   "name": "python3"
  },
  "language_info": {
   "codemirror_mode": {
    "name": "ipython",
    "version": 3
   },
   "file_extension": ".py",
   "mimetype": "text/x-python",
   "name": "python",
   "nbconvert_exporter": "python",
   "pygments_lexer": "ipython3",
   "version": "3.10.11"
  }
 },
 "nbformat": 4,
 "nbformat_minor": 2
}
