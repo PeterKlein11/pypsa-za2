{
 "cells": [
  {
   "cell_type": "code",
   "execution_count": 22,
   "metadata": {},
   "outputs": [],
   "source": [
    "\"\"\"\n",
    "Define optimisation constraints from PyPSA networks with Linopy.\n",
    "\"\"\"\n",
    "import gc\n",
    "import logging\n",
    "import pypsa\n",
    "import pandas as pd\n",
    "from linopy import LinearExpression, Variable, merge\n",
    "from numpy import arange, cumsum, inf, isfinite, nan, roll\n",
    "from scipy import sparse\n",
    "from xarray import DataArray, Dataset, concat\n",
    "\n",
    "from pypsa.descriptors import (\n",
    "    additional_linkports,\n",
    "    expand_series,\n",
    "    get_activity_mask,\n",
    "    get_bounds_pu,\n",
    ")\n",
    "from pypsa.descriptors import get_switchable_as_dense as get_as_dense\n",
    "from pypsa.descriptors import nominal_attrs\n",
    "from pypsa.optimization.common import reindex\n",
    "from pypsa.optimization.compat import define_constraints, get_var, linexpr\n",
    "\n",
    "from _helpers import remove_leap_day\n",
    "\n",
    "from solve_network_dispatch import set_existing_committable, set_max_status, set_upper_combined_status_bus, set_upper_avg_status_over_sns\n",
    "from prepare_and_solve_network import ccgt_steam_constraints\n",
    "\n",
    "logger = logging.getLogger(__name__)"
   ]
  },
  {
   "cell_type": "code",
   "execution_count": 23,
   "metadata": {},
   "outputs": [
    {
     "name": "stderr",
     "output_type": "stream",
     "text": [
      "INFO:pypsa.io:Imported network solved_val-LC-UNC_30-supply_redz_lcopt_LC-2000SEG.nc has buses, carriers, generators, global_constraints, lines, loads, storage_units\n"
     ]
    }
   ],
   "source": [
    "n = pypsa.Network(\"../networks/solved_val-LC-UNC_30-supply_redz_lcopt_LC-2000SEG.nc\")"
   ]
  },
  {
   "cell_type": "code",
   "execution_count": 24,
   "metadata": {},
   "outputs": [
    {
     "name": "stderr",
     "output_type": "stream",
     "text": [
      "INFO:pypsa.io:Imported network solved_val-LC-UNC_30-supply_redz_lcopt_LC-2000SEG.nc has buses, carriers, generators, global_constraints, lines, loads, storage_units\n"
     ]
    }
   ],
   "source": [
    "n_seg = pypsa.Network(\"../networks/solved_val-LC-UNC_30-supply_redz_lcopt_LC-2000SEG.nc\")"
   ]
  },
  {
   "cell_type": "code",
   "execution_count": 30,
   "metadata": {},
   "outputs": [
    {
     "name": "stdout",
     "output_type": "stream",
     "text": [
      "carrier\n",
      "battery          3.212803e+04\n",
      "biomass          3.536078e-02\n",
      "ccgt_steam       3.225690e+02\n",
      "coal             3.850602e+04\n",
      "hydro            6.830200e+02\n",
      "hydro_import     1.764000e+03\n",
      "load_shedding    3.000000e+07\n",
      "nuclear          1.854005e+03\n",
      "ocgt_diesel      3.077915e+03\n",
      "ocgt_gas         3.420000e+02\n",
      "solar_csp        5.000000e+02\n",
      "solar_pv         5.080778e+03\n",
      "wind             6.962218e+03\n",
      "Name: p_nom_opt, dtype: float64\n",
      "carrier\n",
      "battery     733.998045\n",
      "phs        2912.078305\n",
      "Name: p_nom_opt, dtype: float64\n"
     ]
    }
   ],
   "source": [
    "print(n.generators.p_nom_opt.groupby(n.generators.carrier).sum())\n",
    "print(n.storage_units.p_nom_opt.groupby(n.storage_units.carrier).sum())"
   ]
  },
  {
   "cell_type": "code",
   "execution_count": 31,
   "metadata": {},
   "outputs": [
    {
     "name": "stdout",
     "output_type": "stream",
     "text": [
      "carrier\n",
      "battery          3.212803e+04\n",
      "biomass          3.536078e-02\n",
      "ccgt_steam       3.225690e+02\n",
      "coal             3.850602e+04\n",
      "hydro            6.830200e+02\n",
      "hydro_import     1.764000e+03\n",
      "load_shedding    3.000000e+07\n",
      "nuclear          1.854005e+03\n",
      "ocgt_diesel      3.077915e+03\n",
      "ocgt_gas         3.420000e+02\n",
      "solar_csp        5.000000e+02\n",
      "solar_pv         5.080778e+03\n",
      "wind             6.962218e+03\n",
      "Name: p_nom_opt, dtype: float64\n",
      "carrier\n",
      "battery     733.998045\n",
      "phs        2912.078305\n",
      "Name: p_nom_opt, dtype: float64\n"
     ]
    }
   ],
   "source": [
    "print(n_seg.generators.p_nom_opt.groupby(n_seg.generators.carrier).sum())\n",
    "print(n_seg.storage_units.p_nom_opt.groupby(n_seg.storage_units.carrier).sum())"
   ]
  },
  {
   "cell_type": "code",
   "execution_count": 27,
   "metadata": {},
   "outputs": [
    {
     "data": {
      "text/plain": [
       "73.54116396611798"
      ]
     },
     "execution_count": 27,
     "metadata": {},
     "output_type": "execute_result"
    }
   ],
   "source": [
    "n.loads_t.p_set.loc[2040].sum().sum()/1e6"
   ]
  },
  {
   "cell_type": "code",
   "execution_count": 28,
   "metadata": {},
   "outputs": [
    {
     "ename": "SyntaxError",
     "evalue": "invalid syntax (395983660.py, line 1)",
     "output_type": "error",
     "traceback": [
      "\u001b[0;36m  Cell \u001b[0;32mIn[28], line 1\u001b[0;36m\u001b[0m\n\u001b[0;31m    n.\u001b[0m\n\u001b[0m      ^\u001b[0m\n\u001b[0;31mSyntaxError\u001b[0m\u001b[0;31m:\u001b[0m invalid syntax\n"
     ]
    }
   ],
   "source": [
    "n."
   ]
  },
  {
   "cell_type": "code",
   "execution_count": null,
   "metadata": {},
   "outputs": [
    {
     "data": {
      "text/html": [
       "<div>\n",
       "<style scoped>\n",
       "    .dataframe tbody tr th:only-of-type {\n",
       "        vertical-align: middle;\n",
       "    }\n",
       "\n",
       "    .dataframe tbody tr th {\n",
       "        vertical-align: top;\n",
       "    }\n",
       "\n",
       "    .dataframe thead th {\n",
       "        text-align: right;\n",
       "    }\n",
       "</style>\n",
       "<table border=\"1\" class=\"dataframe\">\n",
       "  <thead>\n",
       "    <tr style=\"text-align: right;\">\n",
       "      <th></th>\n",
       "      <th></th>\n",
       "      <th>2025</th>\n",
       "      <th>2030</th>\n",
       "      <th>2035</th>\n",
       "      <th>2040</th>\n",
       "    </tr>\n",
       "  </thead>\n",
       "  <tbody>\n",
       "    <tr>\n",
       "      <th rowspan=\"13\" valign=\"top\">Generator</th>\n",
       "      <th>Battery</th>\n",
       "      <td>2.177650e+02</td>\n",
       "      <td>239.369770</td>\n",
       "      <td>256.483804</td>\n",
       "      <td>270.654966</td>\n",
       "    </tr>\n",
       "    <tr>\n",
       "      <th>Biomass</th>\n",
       "      <td>2.727697e-05</td>\n",
       "      <td>0.000068</td>\n",
       "      <td>0.000138</td>\n",
       "      <td>0.000286</td>\n",
       "    </tr>\n",
       "    <tr>\n",
       "      <th>Ccgt_Steam</th>\n",
       "      <td>1.495407e-05</td>\n",
       "      <td>0.000046</td>\n",
       "      <td>0.000812</td>\n",
       "      <td>0.032191</td>\n",
       "    </tr>\n",
       "    <tr>\n",
       "      <th>Coal</th>\n",
       "      <td>1.500321e+00</td>\n",
       "      <td>1.310813</td>\n",
       "      <td>1.539587</td>\n",
       "      <td>3.275032</td>\n",
       "    </tr>\n",
       "    <tr>\n",
       "      <th>Hydro</th>\n",
       "      <td>3.946491e-02</td>\n",
       "      <td>0.047307</td>\n",
       "      <td>0.094934</td>\n",
       "      <td>0.169742</td>\n",
       "    </tr>\n",
       "    <tr>\n",
       "      <th>Hydro_Import</th>\n",
       "      <td>4.163327e-01</td>\n",
       "      <td>0.394801</td>\n",
       "      <td>0.475383</td>\n",
       "      <td>1.074413</td>\n",
       "    </tr>\n",
       "    <tr>\n",
       "      <th>Load_Shedding</th>\n",
       "      <td>8.551162e-07</td>\n",
       "      <td>0.000001</td>\n",
       "      <td>0.000023</td>\n",
       "      <td>0.001394</td>\n",
       "    </tr>\n",
       "    <tr>\n",
       "      <th>Nuclear</th>\n",
       "      <td>6.888755e+00</td>\n",
       "      <td>5.419081</td>\n",
       "      <td>7.297693</td>\n",
       "      <td>12.978293</td>\n",
       "    </tr>\n",
       "    <tr>\n",
       "      <th>Ocgt_Diesel</th>\n",
       "      <td>4.550166e-04</td>\n",
       "      <td>0.000714</td>\n",
       "      <td>0.032349</td>\n",
       "      <td>0.107450</td>\n",
       "    </tr>\n",
       "    <tr>\n",
       "      <th>Ocgt_Gas</th>\n",
       "      <td>2.806421e-06</td>\n",
       "      <td>0.000000</td>\n",
       "      <td>0.000000</td>\n",
       "      <td>0.000000</td>\n",
       "    </tr>\n",
       "    <tr>\n",
       "      <th>Solar_Csp</th>\n",
       "      <td>2.091701e-05</td>\n",
       "      <td>0.000381</td>\n",
       "      <td>0.006670</td>\n",
       "      <td>0.015639</td>\n",
       "    </tr>\n",
       "    <tr>\n",
       "      <th>Solar_Pv</th>\n",
       "      <td>9.832474e+00</td>\n",
       "      <td>9.808000</td>\n",
       "      <td>10.189313</td>\n",
       "      <td>9.013453</td>\n",
       "    </tr>\n",
       "    <tr>\n",
       "      <th>Wind</th>\n",
       "      <td>2.249044e+01</td>\n",
       "      <td>22.495407</td>\n",
       "      <td>19.770686</td>\n",
       "      <td>15.660521</td>\n",
       "    </tr>\n",
       "    <tr>\n",
       "      <th>Line</th>\n",
       "      <th>AC</th>\n",
       "      <td>6.215996e+02</td>\n",
       "      <td>690.943414</td>\n",
       "      <td>743.085913</td>\n",
       "      <td>782.796453</td>\n",
       "    </tr>\n",
       "    <tr>\n",
       "      <th>Load</th>\n",
       "      <th>-</th>\n",
       "      <td>0.000000e+00</td>\n",
       "      <td>0.000000</td>\n",
       "      <td>0.000000</td>\n",
       "      <td>0.000000</td>\n",
       "    </tr>\n",
       "    <tr>\n",
       "      <th rowspan=\"2\" valign=\"top\">StorageUnit</th>\n",
       "      <th>Battery</th>\n",
       "      <td>1.127113e-03</td>\n",
       "      <td>0.002979</td>\n",
       "      <td>0.077657</td>\n",
       "      <td>1.916544</td>\n",
       "    </tr>\n",
       "    <tr>\n",
       "      <th>Pumped Hydro Storage</th>\n",
       "      <td>5.518963e+00</td>\n",
       "      <td>5.829879</td>\n",
       "      <td>5.498736</td>\n",
       "      <td>4.546031</td>\n",
       "    </tr>\n",
       "  </tbody>\n",
       "</table>\n",
       "</div>"
      ],
      "text/plain": [
       "                                          2025        2030        2035  \\\n",
       "Generator   Battery               2.177650e+02  239.369770  256.483804   \n",
       "            Biomass               2.727697e-05    0.000068    0.000138   \n",
       "            Ccgt_Steam            1.495407e-05    0.000046    0.000812   \n",
       "            Coal                  1.500321e+00    1.310813    1.539587   \n",
       "            Hydro                 3.946491e-02    0.047307    0.094934   \n",
       "            Hydro_Import          4.163327e-01    0.394801    0.475383   \n",
       "            Load_Shedding         8.551162e-07    0.000001    0.000023   \n",
       "            Nuclear               6.888755e+00    5.419081    7.297693   \n",
       "            Ocgt_Diesel           4.550166e-04    0.000714    0.032349   \n",
       "            Ocgt_Gas              2.806421e-06    0.000000    0.000000   \n",
       "            Solar_Csp             2.091701e-05    0.000381    0.006670   \n",
       "            Solar_Pv              9.832474e+00    9.808000   10.189313   \n",
       "            Wind                  2.249044e+01   22.495407   19.770686   \n",
       "Line        AC                    6.215996e+02  690.943414  743.085913   \n",
       "Load        -                     0.000000e+00    0.000000    0.000000   \n",
       "StorageUnit Battery               1.127113e-03    0.002979    0.077657   \n",
       "            Pumped Hydro Storage  5.518963e+00    5.829879    5.498736   \n",
       "\n",
       "                                        2040  \n",
       "Generator   Battery               270.654966  \n",
       "            Biomass                 0.000286  \n",
       "            Ccgt_Steam              0.032191  \n",
       "            Coal                    3.275032  \n",
       "            Hydro                   0.169742  \n",
       "            Hydro_Import            1.074413  \n",
       "            Load_Shedding           0.001394  \n",
       "            Nuclear                12.978293  \n",
       "            Ocgt_Diesel             0.107450  \n",
       "            Ocgt_Gas                0.000000  \n",
       "            Solar_Csp               0.015639  \n",
       "            Solar_Pv                9.013453  \n",
       "            Wind                   15.660521  \n",
       "Line        AC                    782.796453  \n",
       "Load        -                       0.000000  \n",
       "StorageUnit Battery                 1.916544  \n",
       "            Pumped Hydro Storage    4.546031  "
      ]
     },
     "execution_count": 21,
     "metadata": {},
     "output_type": "execute_result"
    }
   ],
   "source": [
    "n.statistics()[\"Supply\"]/1e6"
   ]
  }
 ],
 "metadata": {
  "kernelspec": {
   "display_name": "pypsa-earth-updated",
   "language": "python",
   "name": "python3"
  },
  "language_info": {
   "codemirror_mode": {
    "name": "ipython",
    "version": 3
   },
   "file_extension": ".py",
   "mimetype": "text/x-python",
   "name": "python",
   "nbconvert_exporter": "python",
   "pygments_lexer": "ipython3",
   "version": "3.10.11"
  }
 },
 "nbformat": 4,
 "nbformat_minor": 2
}
