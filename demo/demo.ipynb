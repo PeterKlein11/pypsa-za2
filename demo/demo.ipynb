{
 "cells": [
  {
   "attachments": {},
   "cell_type": "markdown",
   "metadata": {},
   "source": [
    "# Import Python libraries to be used"
   ]
  },
  {
   "cell_type": "code",
   "execution_count": 370,
   "metadata": {},
   "outputs": [],
   "source": [
    "import pandas as pd\n",
    "import pypsa\n",
    "import numpy as np\n",
    "import matplotlib.pyplot as plt\n",
    "import xarray as xr"
   ]
  },
  {
   "attachments": {},
   "cell_type": "markdown",
   "metadata": {},
   "source": [
    "# Define any custom python functions"
   ]
  },
  {
   "cell_type": "code",
   "execution_count": 371,
   "metadata": {},
   "outputs": [],
   "source": [
    "# Calculate the capital recovery factor for annualised cost calculations\n",
    "def annuity(lifetime, rate):\n",
    "    if rate == 0.:\n",
    "        return 1/lifetime\n",
    "    else:\n",
    "        return rate/(1. - 1. / (1. + rate)**lifetime)\n",
    "    \n",
    "def remove_leap_day(df):\n",
    "    return df[~((df.month == 2) & (df.day == 29))]"
   ]
  },
  {
   "attachments": {},
   "cell_type": "markdown",
   "metadata": {},
   "source": [
    "# Read in any hourly profiles that will be used in the model"
   ]
  },
  {
   "cell_type": "code",
   "execution_count": 372,
   "metadata": {},
   "outputs": [],
   "source": [
    "wind = xr.open_dataarray(\"extendable_wind_era5_10.nc\")\n",
    "solar_pv = xr.open_dataarray(\"extendable_solar_pv_sarah_10.nc\")"
   ]
  },
  {
   "cell_type": "code",
   "execution_count": 373,
   "metadata": {},
   "outputs": [],
   "source": [
    "#wind_profiles = pd.read_csv('SWA_wind.csv', index_col=0, parse_dates=True).resample('1h').mean()\n",
    "# pv_profiles = pd.read_csv('SWA_solar_pv.csv', index_col=0,parse_dates=True).resample('1h').mean()"
   ]
  },
  {
   "cell_type": "code",
   "execution_count": 374,
   "metadata": {},
   "outputs": [],
   "source": [
    "wind_pu = wind.sel(time=\"2017\", bus=\"Western Cape\", intra_region=\"redz_corridors_eia\").to_pandas()\n",
    "solar_pv_pu = solar_pv.sel(time=\"2017\", bus=\"Northern Cape\", _type = \"Single Axis\", intra_region=\"redz_corridors_eia\").to_pandas()"
   ]
  },
  {
   "attachments": {},
   "cell_type": "markdown",
   "metadata": {},
   "source": [
    "# Costs"
   ]
  },
  {
   "cell_type": "code",
   "execution_count": 375,
   "metadata": {},
   "outputs": [],
   "source": [
    "capex={ #all in R/MW\n",
    "    'pv':15e6,\n",
    "    'wind':25e6,\n",
    "    'diesel_genset':4e6,\n",
    "    'battery_1h':10e6,\n",
    "    'battery_4h':25e6,\n",
    "}  \n",
    "\n",
    "fom={ # as percentage of capital R/MW/yr\n",
    "    'pv':0.02,\n",
    "    'wind':0.05,\n",
    "    'diesel_genset':0.02,\n",
    "    'battery_1h':0.02,\n",
    "    'battery_4h':0.02,    \n",
    "}\n",
    "\n",
    "variable_costs={ #all in R/MWh\n",
    "    'diesel_genset':6000,\n",
    "} \n",
    "excess_value = -1000"
   ]
  },
  {
   "attachments": {},
   "cell_type": "markdown",
   "metadata": {},
   "source": [
    "# Setup PyPSA network"
   ]
  },
  {
   "cell_type": "code",
   "execution_count": 376,
   "metadata": {},
   "outputs": [],
   "source": [
    "# Initialise network\n",
    "n = pypsa.Network()"
   ]
  },
  {
   "cell_type": "code",
   "execution_count": 377,
   "metadata": {},
   "outputs": [],
   "source": [
    "# Snapshots are the time steps used in the PyPSA model\n",
    "n.snapshots = pd.DatetimeIndex(\n",
    "    pd.date_range('2024-01-01 00:00',\n",
    "                  '2024-12-31 23:00',\n",
    "                  freq='H')\n",
    ")\n",
    "#drop the leap day\n",
    "n.snapshots = remove_leap_day(n.snapshots)"
   ]
  },
  {
   "cell_type": "code",
   "execution_count": 378,
   "metadata": {},
   "outputs": [],
   "source": [
    "# Add a node for the generators and load\n",
    "load_profile = pd.Series(150,n.snapshots)\n",
    "load_profile[(load_profile.index.hour<5) | (load_profile.index.hour>21)]=0\n",
    "n.add('Bus', 'grid')\n",
    "n.add('Load','load',\n",
    "    bus = 'grid',\n",
    "    p_set = load_profile,\n",
    ")"
   ]
  },
  {
   "cell_type": "code",
   "execution_count": 379,
   "metadata": {},
   "outputs": [],
   "source": [
    "# add Wind generators\n",
    "n.add(\n",
    "    'Generator','wind',\n",
    "    bus='grid',\n",
    "    p_max_pu = wind_pu.values[0:8760],\n",
    "    capital_cost = (annuity(lifetime=20,rate=0.07)+fom['wind'])*capex['wind'],\n",
    "    p_nom_extendable = True,\n",
    ")  "
   ]
  },
  {
   "cell_type": "code",
   "execution_count": 380,
   "metadata": {},
   "outputs": [],
   "source": [
    "# add PV generators\n",
    "n.add(\n",
    "    'Generator','pv',\n",
    "    bus='grid',\n",
    "    #p_nom_max = 155,\n",
    "    p_max_pu = solar_pv_pu.values[0:8760],\n",
    "    capital_cost = (annuity(lifetime=20,rate=0.07)+fom['pv'])*capex['pv'],\n",
    "    p_nom_extendable = True,\n",
    ")  "
   ]
  },
  {
   "cell_type": "code",
   "execution_count": 381,
   "metadata": {},
   "outputs": [],
   "source": [
    "# add Diesel generators\n",
    "n.add(\n",
    "    'Generator','diesel_genset',\n",
    "    bus='grid',\n",
    "    #p_nom_max =103,\n",
    "    capital_cost = (annuity(lifetime=20,rate=0.07)+fom['diesel_genset'])*capex['diesel_genset'],\n",
    "    marginal_cost = variable_costs['diesel_genset'],\n",
    "    p_nom_extendable = True,\n",
    ")  "
   ]
  },
  {
   "cell_type": "code",
   "execution_count": 382,
   "metadata": {},
   "outputs": [],
   "source": [
    "# add Load shedding\n",
    "n.add(\n",
    "    'Generator','load_shedding',\n",
    "    p_nom=100,\n",
    "    bus='grid',\n",
    "    marginal_cost = 20000,\n",
    "    p_nom_extendable = False,\n",
    ")  "
   ]
  },
  {
   "cell_type": "code",
   "execution_count": 383,
   "metadata": {},
   "outputs": [],
   "source": [
    "# # add Load shedding\n",
    "# n.add(\n",
    "#     'Generator','excess_sales',\n",
    "#     p_nom=1000,\n",
    "#     bus='grid',\n",
    "#     sign=-1,\n",
    "#     marginal_cost = excess_value,\n",
    "#     p_nom_extendable = False,\n",
    "# )  "
   ]
  },
  {
   "cell_type": "code",
   "execution_count": 384,
   "metadata": {},
   "outputs": [],
   "source": [
    "# Add batteries\n",
    "n.add(\n",
    "    'StorageUnit','battery_4h',\n",
    "    bus='grid',\n",
    "    max_hours = 4,\n",
    "    #p_nom_max = 40,\n",
    "    efficiency_store = 0.9**0.5,\n",
    "    efficiency_dispatch = 0.9**0.5,\n",
    "    cyclic_state_of_charge = True,\n",
    "    capital_cost = (annuity(lifetime=20,rate=0.07)+fom['battery_4h'])*capex['battery_4h'],\n",
    "    p_nom_extendable = True,\n",
    ")"
   ]
  },
  {
   "attachments": {},
   "cell_type": "markdown",
   "metadata": {},
   "source": [
    "# Solve the network"
   ]
  },
  {
   "cell_type": "code",
   "execution_count": 385,
   "metadata": {},
   "outputs": [
    {
     "name": "stderr",
     "output_type": "stream",
     "text": [
      "INFO:linopy.model: Solve problem using Cbc solver\n",
      "INFO:linopy.io:Writing objective.\n",
      "Writing constraints.: 100%|\u001b[38;2;128;191;255m██████████\u001b[0m| 16/16 [00:00<00:00, 49.71it/s]\n",
      "Writing continuous variables.: 100%|\u001b[38;2;128;191;255m██████████\u001b[0m| 7/7 [00:00<00:00, 129.87it/s]\n",
      "INFO:linopy.io: Writing time: 0.39s\n",
      "INFO:linopy.constants: Optimization successful: \n",
      "Status: ok\n",
      "Termination condition: optimal\n",
      "Solution: 61324 primals, 140164 duals\n",
      "Objective: 1.52e+09\n",
      "Solver model: not available\n",
      "Solver message: Optimal - objective value 1517427233.30866528\n",
      "\n",
      "\n",
      "INFO:pypsa.optimization.optimize:The shadow-prices of the constraints Generator-fix-p-lower, Generator-fix-p-upper, Generator-ext-p-lower, Generator-ext-p-upper, StorageUnit-ext-p_dispatch-lower, StorageUnit-ext-p_dispatch-upper, StorageUnit-ext-p_store-lower, StorageUnit-ext-p_store-upper, StorageUnit-ext-state_of_charge-lower, StorageUnit-ext-state_of_charge-upper, StorageUnit-energy_balance were not assigned to the network.\n"
     ]
    },
    {
     "name": "stdout",
     "output_type": "stream",
     "text": [
      "Welcome to the CBC MILP Solver \n",
      "Version: 2.10.7 \n",
      "Build Date: May 17 2023 \n",
      "\n",
      "command line - cbc -printingOptions all -import /tmp/linopy-problem-n713ygqb.lp -solve -solu /tmp/linopy-solve-3265qi82.sol (default strategy 1)\n",
      "Option for printingOptions changed from normal to all\n",
      "Presolve 63093 (-77071) rows, 54337 (-6987) columns and 176869 (-81503) elements\n",
      "Perturbing problem by 0.001% of 3.673356e+08 - largest nonzero change 0.13489772 ( 0.0007821715%) - largest zero change 0.13489723\n",
      "0  Obj 0 Primal inf 1239962.8 (6205)\n",
      "540  Obj 251.97465 Primal inf 1116446.6 (6518)\n",
      "1080  Obj 371.14974 Primal inf 1092389.1 (6699)\n",
      "1620  Obj 470.07231 Primal inf 1068084.7 (6883)\n",
      "2160  Obj 563.23584 Primal inf 1042968.8 (7076)\n",
      "2700  Obj 11700749 Primal inf 1022594.2 (7172)\n",
      "3240  Obj 34200942 Primal inf 984556.81 (7271)\n",
      "3780  Obj 67501078 Primal inf 953201.97 (7343)\n",
      "4320  Obj 1.3359982e+08 Primal inf 903233.04 (7358)\n",
      "4860  Obj 1.7130994e+08 Primal inf 870108.41 (7404)\n",
      "5400  Obj 2.1082006e+08 Primal inf 838768.65 (7429)\n",
      "5940  Obj 2.3512047e+08 Primal inf 1172146.6 (7425)\n",
      "6480  Obj 2.6752038e+08 Primal inf 789594.13 (7376)\n",
      "7020  Obj 3.0442049e+08 Primal inf 700040.98 (7327)\n",
      "7560  Obj 3.3772063e+08 Primal inf 667598.53 (7343)\n",
      "8100  Obj 3.6289085e+08 Primal inf 657170.36 (7366)\n",
      "8640  Obj 4.0191184e+08 Primal inf 643323.69 (8614)\n",
      "9180  Obj 4.2519063e+08 Primal inf 552234.38 (7524)\n",
      "9720  Obj 4.4077963e+08 Primal inf 531034.55 (6291)\n",
      "10260  Obj 4.7325875e+08 Primal inf 723724.99 (7570)\n",
      "10800  Obj 4.7827074e+08 Primal inf 742989.61 (7586)\n",
      "11340  Obj 5.3624714e+08 Primal inf 697788.45 (8782)\n",
      "11880  Obj 5.7902413e+08 Primal inf 730834.85 (7516)\n",
      "12420  Obj 6.082633e+08 Primal inf 806331.24 (7574)\n",
      "12960  Obj 6.1590967e+08 Primal inf 1037035.1 (8786)\n",
      "13500  Obj 7.0628986e+08 Primal inf 1139399.2 (8335)\n",
      "14040  Obj 7.8945452e+08 Primal inf 1506442.7 (7275)\n",
      "14580  Obj 8.4397941e+08 Primal inf 1378352.4 (7247)\n",
      "15120  Obj 9.0041666e+08 Primal inf 1539685.4 (7307)\n",
      "15660  Obj 1.0260821e+09 Primal inf 853505.17 (8622)\n",
      "16200  Obj 1.0409265e+09 Primal inf 572919.7 (6370)\n",
      "16740  Obj 1.0497795e+09 Primal inf 501745.02 (6366)\n",
      "17280  Obj 1.0710503e+09 Primal inf 677421.78 (7284)\n",
      "17820  Obj 1.082912e+09 Primal inf 647274.09 (7274)\n",
      "18360  Obj 1.0874222e+09 Primal inf 660363.85 (7282)\n",
      "18900  Obj 1.096047e+09 Primal inf 671172.74 (7315)\n",
      "19440  Obj 1.1075399e+09 Primal inf 2316585.8 (6106)\n",
      "19980  Obj 1.1320058e+09 Primal inf 2394660.8 (6136)\n",
      "20520  Obj 1.1572593e+09 Primal inf 623349.11 (5790)\n",
      "21060  Obj 1.1697873e+09 Primal inf 786769.19 (5499)\n",
      "21600  Obj 1.1820279e+09 Primal inf 568655.46 (5554)\n",
      "22140  Obj 1.1967393e+09 Primal inf 529982.97 (6102)\n",
      "22680  Obj 1.2096366e+09 Primal inf 739382.2 (7898)\n",
      "23220  Obj 1.2250814e+09 Primal inf 1143427.7 (8760)\n",
      "23760  Obj 1.244141e+09 Primal inf 455583.55 (4364)\n",
      "24300  Obj 1.2676412e+09 Primal inf 417016.49 (4750)\n",
      "24840  Obj 1.2913521e+09 Primal inf 421632.91 (5449)\n",
      "25380  Obj 1.300918e+09 Primal inf 439344.62 (6089)\n",
      "25920  Obj 1.3312254e+09 Primal inf 1910985.5 (12327)\n",
      "26460  Obj 1.3356268e+09 Primal inf 941623.98 (7527)\n",
      "27000  Obj 1.3811562e+09 Primal inf 1931654.6 (5796)\n",
      "27540  Obj 1.4069029e+09 Primal inf 1495342.3 (6662)\n",
      "28080  Obj 1.4188397e+09 Primal inf 1851325 (15730)\n",
      "28246  Obj 1.4231255e+09 Primal inf 174345.34 (3168)\n",
      "28257  Obj 1.4236171e+09 Primal inf 172878.38 (3162)\n",
      "28797  Obj 1.4425943e+09 Primal inf 828487.67 (13745)\n",
      "29337  Obj 1.4476375e+09 Primal inf 158224.28 (2444)\n",
      "29877  Obj 1.4503472e+09 Primal inf 169650.73 (2378)\n",
      "30417  Obj 1.4583917e+09 Primal inf 92786.42 (2017)\n",
      "30957  Obj 1.4701653e+09 Primal inf 205695 (10747)\n",
      "31497  Obj 1.4901854e+09 Primal inf 455351.26 (8946)\n",
      "32037  Obj 1.5001236e+09 Primal inf 152203.79 (2021)\n",
      "32577  Obj 1.5084497e+09 Primal inf 23374.588 (1153)\n",
      "33117  Obj 1.5147975e+09 Primal inf 4000.0793 (738)\n",
      "33657  Obj 1.5171629e+09 Primal inf 268.62673 (182)\n",
      "33884  Obj 1.5174402e+09\n",
      "Optimal - objective value 1.5174272e+09\n",
      "After Postsolve, objective 1.5174272e+09, infeasibilities - dual 0 (0), primal 0 (0)\n",
      "Optimal objective 1517427233 - 33884 iterations time 4.062, Presolve 0.10\n",
      "Total time (CPU seconds):       4.63   (Wallclock seconds):       4.42\n",
      "\n"
     ]
    },
    {
     "data": {
      "text/plain": [
       "('ok', 'optimal')"
      ]
     },
     "execution_count": 385,
     "metadata": {},
     "output_type": "execute_result"
    }
   ],
   "source": [
    "n.optimize.create_model()\n",
    "n.optimize.solve_model(solver_name='cbc')"
   ]
  },
  {
   "cell_type": "code",
   "execution_count": 386,
   "metadata": {},
   "outputs": [
    {
     "data": {
      "text/plain": [
       "Generator\n",
       "wind              64.121364\n",
       "pv               320.324720\n",
       "diesel_genset     32.769183\n",
       "load_shedding    100.000000\n",
       "Name: p_nom_opt, dtype: float64"
      ]
     },
     "execution_count": 386,
     "metadata": {},
     "output_type": "execute_result"
    }
   ],
   "source": [
    "n.generators.p_nom_opt"
   ]
  },
  {
   "cell_type": "code",
   "execution_count": 387,
   "metadata": {},
   "outputs": [
    {
     "data": {
      "text/plain": [
       "StorageUnit\n",
       "battery_4h    173.46511\n",
       "Name: p_nom_opt, dtype: float64"
      ]
     },
     "execution_count": 387,
     "metadata": {},
     "output_type": "execute_result"
    }
   ],
   "source": [
    "n.storage_units.p_nom_opt"
   ]
  },
  {
   "cell_type": "code",
   "execution_count": 393,
   "metadata": {},
   "outputs": [
    {
     "data": {
      "text/plain": [
       "<matplotlib.legend.Legend at 0x77524f4248b0>"
      ]
     },
     "execution_count": 393,
     "metadata": {},
     "output_type": "execute_result"
    },
    {
     "data": {
      "image/png": "[encoded data removed]",
      "text/plain": [
       "<Figure size 640x480 with 1 Axes>"
      ]
     },
     "metadata": {},
     "output_type": "display_data"
    }
   ],
   "source": [
    "cm = {\n",
    "    'wind':'#77D1E4',\n",
    "    'pv':'#F99B00',\n",
    "    'bat_c':'#C77DFF',\n",
    "    'bat_d':'#C77DFF',\n",
    "    \"excess_sales\": \"silver\",\n",
    "    'load_shedding':'r',\n",
    "    \"diesel_genset\": \"#011627\",\n",
    "}\n",
    "\n",
    "power = n.generators_t.p.mul(n.generators.sign)\n",
    "power['bat_c'] = -n.storage_units_t.p_store\n",
    "power['bat_d'] = n.storage_units_t.p_dispatch\n",
    "power[power['bat_d']<0] =0 \n",
    "\n",
    "plot_dates = pd.date_range('2024-06-01 00:00','2024-06-01 23:00',freq='H')\n",
    "power = power.reindex(['excess_sales','bat_c','pv','wind','bat_d','diesel_genset'],axis=1)\n",
    "power.loc[plot_dates].plot.area(stacked=True, lw=0, color=cm)\n",
    "n.loads_t.p_set.loc[plot_dates].plot(ax=plt.gca(),color='k',lw=2)\n",
    "\n",
    "#place legend outside right\n",
    "plt.legend(loc='center left', bbox_to_anchor=(1, 0.5))"
   ]
  },
  {
   "cell_type": "code",
   "execution_count": 389,
   "metadata": {},
   "outputs": [
    {
     "ename": "NameError",
     "evalue": "name 'stop' is not defined",
     "output_type": "error",
     "traceback": [
      "\u001b[0;31m---------------------------------------------------------------------------\u001b[0m",
      "\u001b[0;31mNameError\u001b[0m                                 Traceback (most recent call last)",
      "Cell \u001b[0;32mIn[389], line 1\u001b[0m\n\u001b[0;32m----> 1\u001b[0m \u001b[43mstop\u001b[49m\n",
      "\u001b[0;31mNameError\u001b[0m: name 'stop' is not defined"
     ]
    }
   ],
   "source": [
    "stop"
   ]
  },
  {
   "cell_type": "markdown",
   "metadata": {},
   "source": [
    "# Adding a custom constraint"
   ]
  },
  {
   "cell_type": "code",
   "execution_count": 391,
   "metadata": {},
   "outputs": [
    {
     "data": {
      "text/plain": [
       "Constraint `pv_outage` (snapshot: 730):\n",
       "---------------------------------------\n",
       "[2024-01-01 12:00:00]: +1 Generator-p[2024-01-01 12:00:00, pv] ≤ -0.0\n",
       "[2024-01-01 13:00:00]: +1 Generator-p[2024-01-01 13:00:00, pv] ≤ -0.0\n",
       "[2024-01-02 12:00:00]: +1 Generator-p[2024-01-02 12:00:00, pv] ≤ -0.0\n",
       "[2024-01-02 13:00:00]: +1 Generator-p[2024-01-02 13:00:00, pv] ≤ -0.0\n",
       "[2024-01-03 12:00:00]: +1 Generator-p[2024-01-03 12:00:00, pv] ≤ -0.0\n",
       "[2024-01-03 13:00:00]: +1 Generator-p[2024-01-03 13:00:00, pv] ≤ -0.0\n",
       "[2024-01-04 12:00:00]: +1 Generator-p[2024-01-04 12:00:00, pv] ≤ -0.0\n",
       "\t\t...\n",
       "[2024-12-28 13:00:00]: +1 Generator-p[2024-12-28 13:00:00, pv] ≤ -0.0\n",
       "[2024-12-29 12:00:00]: +1 Generator-p[2024-12-29 12:00:00, pv] ≤ -0.0\n",
       "[2024-12-29 13:00:00]: +1 Generator-p[2024-12-29 13:00:00, pv] ≤ -0.0\n",
       "[2024-12-30 12:00:00]: +1 Generator-p[2024-12-30 12:00:00, pv] ≤ -0.0\n",
       "[2024-12-30 13:00:00]: +1 Generator-p[2024-12-30 13:00:00, pv] ≤ -0.0\n",
       "[2024-12-31 12:00:00]: +1 Generator-p[2024-12-31 12:00:00, pv] ≤ -0.0\n",
       "[2024-12-31 13:00:00]: +1 Generator-p[2024-12-31 13:00:00, pv] ≤ -0.0"
      ]
     },
     "execution_count": 391,
     "metadata": {},
     "output_type": "execute_result"
    }
   ],
   "source": [
    "outage = n.snapshots[n.snapshots.hour.isin([12,13])]\n",
    "\n",
    "lhs =  n.model.variables[\"Generator-p\"].sel(Generator=\"pv\", snapshot=outage)\n",
    "rhs = 0\n",
    "n.model.add_constraints(lhs, \"<=\", rhs, name=\"pv_outage\")"
   ]
  },
  {
   "cell_type": "code",
   "execution_count": 395,
   "metadata": {},
   "outputs": [
    {
     "data": {
      "text/plain": [
       "Constraint `Bus-nodal_balance` (snapshot: 8760, Bus: 1):\n",
       "--------------------------------------------------------\n",
       "[2024-01-01 00:00:00, grid]: +1 Generator-p[2024-01-01 00:00:00, wind] + 1 Generator-p[2024-01-01 00:00:00, pv] + 1 Generator-p[2024-01-01 00:00:00, diesel_genset] + 1 Generator-p[2024-01-01 00:00:00, load_shedding] + 1 StorageUnit-p_dispatch[2024-01-01 00:00:00, battery_4h] - 1 StorageUnit-p_store[2024-01-01 00:00:00, battery_4h] = 0.0\n",
       "[2024-01-01 01:00:00, grid]: +1 Generator-p[2024-01-01 01:00:00, wind] + 1 Generator-p[2024-01-01 01:00:00, pv] + 1 Generator-p[2024-01-01 01:00:00, diesel_genset] + 1 Generator-p[2024-01-01 01:00:00, load_shedding] + 1 StorageUnit-p_dispatch[2024-01-01 01:00:00, battery_4h] - 1 StorageUnit-p_store[2024-01-01 01:00:00, battery_4h] = 0.0\n",
       "[2024-01-01 02:00:00, grid]: +1 Generator-p[2024-01-01 02:00:00, wind] + 1 Generator-p[2024-01-01 02:00:00, pv] + 1 Generator-p[2024-01-01 02:00:00, diesel_genset] + 1 Generator-p[2024-01-01 02:00:00, load_shedding] + 1 StorageUnit-p_dispatch[2024-01-01 02:00:00, battery_4h] - 1 StorageUnit-p_store[2024-01-01 02:00:00, battery_4h] = 0.0\n",
       "[2024-01-01 03:00:00, grid]: +1 Generator-p[2024-01-01 03:00:00, wind] + 1 Generator-p[2024-01-01 03:00:00, pv] + 1 Generator-p[2024-01-01 03:00:00, diesel_genset] + 1 Generator-p[2024-01-01 03:00:00, load_shedding] + 1 StorageUnit-p_dispatch[2024-01-01 03:00:00, battery_4h] - 1 StorageUnit-p_store[2024-01-01 03:00:00, battery_4h] = 0.0\n",
       "[2024-01-01 04:00:00, grid]: +1 Generator-p[2024-01-01 04:00:00, wind] + 1 Generator-p[2024-01-01 04:00:00, pv] + 1 Generator-p[2024-01-01 04:00:00, diesel_genset] + 1 Generator-p[2024-01-01 04:00:00, load_shedding] + 1 StorageUnit-p_dispatch[2024-01-01 04:00:00, battery_4h] - 1 StorageUnit-p_store[2024-01-01 04:00:00, battery_4h] = 0.0\n",
       "[2024-01-01 05:00:00, grid]: +1 Generator-p[2024-01-01 05:00:00, wind] + 1 Generator-p[2024-01-01 05:00:00, pv] + 1 Generator-p[2024-01-01 05:00:00, diesel_genset] + 1 Generator-p[2024-01-01 05:00:00, load_shedding] + 1 StorageUnit-p_dispatch[2024-01-01 05:00:00, battery_4h] - 1 StorageUnit-p_store[2024-01-01 05:00:00, battery_4h] = 150.0\n",
       "[2024-01-01 06:00:00, grid]: +1 Generator-p[2024-01-01 06:00:00, wind] + 1 Generator-p[2024-01-01 06:00:00, pv] + 1 Generator-p[2024-01-01 06:00:00, diesel_genset] + 1 Generator-p[2024-01-01 06:00:00, load_shedding] + 1 StorageUnit-p_dispatch[2024-01-01 06:00:00, battery_4h] - 1 StorageUnit-p_store[2024-01-01 06:00:00, battery_4h] = 150.0\n",
       "\t\t...\n",
       "[2024-12-31 17:00:00, grid]: +1 Generator-p[2024-12-31 17:00:00, wind] + 1 Generator-p[2024-12-31 17:00:00, pv] + 1 Generator-p[2024-12-31 17:00:00, diesel_genset] + 1 Generator-p[2024-12-31 17:00:00, load_shedding] + 1 StorageUnit-p_dispatch[2024-12-31 17:00:00, battery_4h] - 1 StorageUnit-p_store[2024-12-31 17:00:00, battery_4h] = 150.0\n",
       "[2024-12-31 18:00:00, grid]: +1 Generator-p[2024-12-31 18:00:00, wind] + 1 Generator-p[2024-12-31 18:00:00, pv] + 1 Generator-p[2024-12-31 18:00:00, diesel_genset] + 1 Generator-p[2024-12-31 18:00:00, load_shedding] + 1 StorageUnit-p_dispatch[2024-12-31 18:00:00, battery_4h] - 1 StorageUnit-p_store[2024-12-31 18:00:00, battery_4h] = 150.0\n",
       "[2024-12-31 19:00:00, grid]: +1 Generator-p[2024-12-31 19:00:00, wind] + 1 Generator-p[2024-12-31 19:00:00, pv] + 1 Generator-p[2024-12-31 19:00:00, diesel_genset] + 1 Generator-p[2024-12-31 19:00:00, load_shedding] + 1 StorageUnit-p_dispatch[2024-12-31 19:00:00, battery_4h] - 1 StorageUnit-p_store[2024-12-31 19:00:00, battery_4h] = 150.0\n",
       "[2024-12-31 20:00:00, grid]: +1 Generator-p[2024-12-31 20:00:00, wind] + 1 Generator-p[2024-12-31 20:00:00, pv] + 1 Generator-p[2024-12-31 20:00:00, diesel_genset] + 1 Generator-p[2024-12-31 20:00:00, load_shedding] + 1 StorageUnit-p_dispatch[2024-12-31 20:00:00, battery_4h] - 1 StorageUnit-p_store[2024-12-31 20:00:00, battery_4h] = 150.0\n",
       "[2024-12-31 21:00:00, grid]: +1 Generator-p[2024-12-31 21:00:00, wind] + 1 Generator-p[2024-12-31 21:00:00, pv] + 1 Generator-p[2024-12-31 21:00:00, diesel_genset] + 1 Generator-p[2024-12-31 21:00:00, load_shedding] + 1 StorageUnit-p_dispatch[2024-12-31 21:00:00, battery_4h] - 1 StorageUnit-p_store[2024-12-31 21:00:00, battery_4h] = 150.0\n",
       "[2024-12-31 22:00:00, grid]: +1 Generator-p[2024-12-31 22:00:00, wind] + 1 Generator-p[2024-12-31 22:00:00, pv] + 1 Generator-p[2024-12-31 22:00:00, diesel_genset] + 1 Generator-p[2024-12-31 22:00:00, load_shedding] + 1 StorageUnit-p_dispatch[2024-12-31 22:00:00, battery_4h] - 1 StorageUnit-p_store[2024-12-31 22:00:00, battery_4h] = 0.0\n",
       "[2024-12-31 23:00:00, grid]: +1 Generator-p[2024-12-31 23:00:00, wind] + 1 Generator-p[2024-12-31 23:00:00, pv] + 1 Generator-p[2024-12-31 23:00:00, diesel_genset] + 1 Generator-p[2024-12-31 23:00:00, load_shedding] + 1 StorageUnit-p_dispatch[2024-12-31 23:00:00, battery_4h] - 1 StorageUnit-p_store[2024-12-31 23:00:00, battery_4h] = 0.0"
      ]
     },
     "execution_count": 395,
     "metadata": {},
     "output_type": "execute_result"
    }
   ],
   "source": [
    "n.model.constraints[\"Bus-nodal_balance\"]"
   ]
  },
  {
   "cell_type": "code",
   "execution_count": 392,
   "metadata": {},
   "outputs": [
    {
     "name": "stderr",
     "output_type": "stream",
     "text": [
      "INFO:linopy.model: Solve problem using Cbc solver\n",
      "INFO:linopy.io:Writing objective.\n",
      "Writing constraints.: 100%|\u001b[38;2;128;191;255m██████████\u001b[0m| 17/17 [00:00<00:00, 51.96it/s]\n",
      "Writing continuous variables.: 100%|\u001b[38;2;128;191;255m██████████\u001b[0m| 7/7 [00:00<00:00, 136.85it/s]\n",
      "INFO:linopy.io: Writing time: 0.4s\n",
      "INFO:linopy.constants: Optimization successful: \n",
      "Status: ok\n",
      "Termination condition: optimal\n",
      "Solution: 61324 primals, 140894 duals\n",
      "Objective: 1.66e+09\n",
      "Solver model: not available\n",
      "Solver message: Optimal - objective value 1660150382.74751067\n",
      "\n",
      "\n"
     ]
    },
    {
     "name": "stdout",
     "output_type": "stream",
     "text": [
      "Welcome to the CBC MILP Solver \n",
      "Version: 2.10.7 \n",
      "Build Date: May 17 2023 \n",
      "\n",
      "command line - cbc -printingOptions all -import /tmp/linopy-problem-yuy04rfk.lp -solve -solu /tmp/linopy-solve-4n3b88ko.sol (default strategy 1)\n",
      "Option for printingOptions changed from normal to all\n",
      "Presolve 62363 (-78531) rows, 53607 (-7717) columns and 174679 (-84423) elements\n",
      "Perturbing problem by 0.001% of 3.673356e+08 - largest nonzero change 0.13489772 ( 0.0007821715%) - largest zero change 0.13489723\n",
      "0  Obj 0 Primal inf 1239081.7 (6205)\n",
      "536  Obj 258.19793 Primal inf 1123574.7 (6539)\n",
      "1072  Obj 380.47426 Primal inf 1106411.6 (6721)\n",
      "1608  Obj 481.3438 Primal inf 1087059.8 (6928)\n",
      "2144  Obj 570.55716 Primal inf 1061558.7 (7118)\n",
      "2680  Obj 17100724 Primal inf 1031020.5 (7237)\n",
      "3216  Obj 44100872 Primal inf 999072.58 (7330)\n",
      "3752  Obj 89101050 Primal inf 970624.97 (7396)\n",
      "4288  Obj 1.314012e+08 Primal inf 935297.14 (7424)\n",
      "4824  Obj 2.1067991e+08 Primal inf 895307.1 (7435)\n",
      "5360  Obj 2.5469004e+08 Primal inf 869691.37 (7489)\n",
      "5896  Obj 2.8889024e+08 Primal inf 848072.77 (7498)\n",
      "6432  Obj 3.2219066e+08 Primal inf 1187660.5 (7439)\n",
      "6968  Obj 3.6179049e+08 Primal inf 740737.86 (7391)\n",
      "7504  Obj 3.6610668e+08 Primal inf 694928.67 (8401)\n",
      "8040  Obj 3.6610691e+08 Primal inf 739099.16 (8678)\n",
      "8576  Obj 4.2839086e+08 Primal inf 727064.93 (7752)\n",
      "9112  Obj 4.3428096e+08 Primal inf 765305.68 (8011)\n",
      "9648  Obj 4.4831065e+08 Primal inf 539737.69 (7291)\n",
      "10184  Obj 4.7889172e+08 Primal inf 532333.09 (7272)\n",
      "10720  Obj 4.973073e+08 Primal inf 556725.28 (7251)\n",
      "11256  Obj 5.0230991e+08 Primal inf 640065.97 (8576)\n",
      "11792  Obj 5.1037182e+08 Primal inf 607780.81 (8644)\n",
      "12328  Obj 5.5943704e+08 Primal inf 811692.72 (7033)\n",
      "12864  Obj 6.1778452e+08 Primal inf 690746.35 (7079)\n",
      "13400  Obj 6.8166686e+08 Primal inf 972874.69 (6958)\n",
      "13936  Obj 7.8840003e+08 Primal inf 1010841 (7125)\n",
      "14472  Obj 8.8265816e+08 Primal inf 1143268.9 (7067)\n",
      "15008  Obj 9.935666e+08 Primal inf 1235641.4 (8872)\n",
      "15544  Obj 1.0644309e+09 Primal inf 1217110.9 (6794)\n",
      "16080  Obj 1.1995809e+09 Primal inf 1015004.8 (6996)\n",
      "16616  Obj 1.2192217e+09 Primal inf 632760.47 (6048)\n",
      "17152  Obj 1.2331338e+09 Primal inf 603710.68 (5645)\n",
      "17688  Obj 1.2381441e+09 Primal inf 592679.12 (5608)\n",
      "18224  Obj 1.2464183e+09 Primal inf 587336.78 (5621)\n",
      "18760  Obj 1.2474278e+09 Primal inf 601255.96 (5625)\n",
      "19296  Obj 1.2541248e+09 Primal inf 602921.49 (5621)\n",
      "19832  Obj 1.2598792e+09 Primal inf 556659.8 (5608)\n",
      "20368  Obj 1.2786662e+09 Primal inf 499046.87 (5666)\n",
      "20904  Obj 1.2921048e+09 Primal inf 509930.11 (5563)\n",
      "21440  Obj 1.3081176e+09 Primal inf 603449.17 (5296)\n",
      "21976  Obj 1.3262697e+09 Primal inf 538957.27 (6863)\n",
      "22512  Obj 1.3433852e+09 Primal inf 1049171.5 (6690)\n",
      "23048  Obj 1.3553413e+09 Primal inf 336610.6 (4614)\n",
      "23584  Obj 1.3810273e+09 Primal inf 317550.03 (4496)\n",
      "24120  Obj 1.3931746e+09 Primal inf 329744.79 (4324)\n",
      "24656  Obj 1.4134315e+09 Primal inf 315563.67 (4201)\n",
      "25192  Obj 1.4234896e+09 Primal inf 338131.88 (4321)\n",
      "25728  Obj 1.4572735e+09 Primal inf 504985.41 (4181)\n",
      "26264  Obj 1.4990405e+09 Primal inf 1313702.4 (6262)\n",
      "26800  Obj 1.536608e+09 Primal inf 244370.25 (4036)\n",
      "27336  Obj 1.5611965e+09 Primal inf 213550.22 (3295)\n",
      "27872  Obj 1.5644741e+09 Primal inf 3492935.7 (5398)\n",
      "28408  Obj 1.5857107e+09 Primal inf 95388.574 (2774)\n",
      "28944  Obj 1.5987339e+09 Primal inf 88365.234 (3019)\n",
      "29480  Obj 1.605467e+09 Primal inf 216562.9 (3831)\n",
      "30016  Obj 1.6080403e+09 Primal inf 119148.67 (2897)\n",
      "30552  Obj 1.6103655e+09 Primal inf 107929.8 (2187)\n",
      "31088  Obj 1.623831e+09 Primal inf 69278.373 (1849)\n",
      "31624  Obj 1.6393026e+09 Primal inf 65674.826 (2464)\n",
      "32160  Obj 1.6500932e+09 Primal inf 120755.86 (2937)\n",
      "32696  Obj 1.6570756e+09 Primal inf 16999.438 (1039)\n",
      "33232  Obj 1.6601402e+09 Primal inf 81.567881 (115)\n",
      "33316  Obj 1.6601626e+09\n",
      "Optimal - objective value 1.6601504e+09\n",
      "After Postsolve, objective 1.6601504e+09, infeasibilities - dual 0 (0), primal 0 (0)\n",
      "Optimal objective 1660150383 - 33316 iterations time 3.832, Presolve 0.10\n",
      "Total time (CPU seconds):       4.40   (Wallclock seconds):       4.19\n",
      "\n"
     ]
    },
    {
     "name": "stderr",
     "output_type": "stream",
     "text": [
      "INFO:pypsa.optimization.optimize:The shadow-prices of the constraints Generator-fix-p-lower, Generator-fix-p-upper, Generator-ext-p-lower, Generator-ext-p-upper, StorageUnit-ext-p_dispatch-lower, StorageUnit-ext-p_dispatch-upper, StorageUnit-ext-p_store-lower, StorageUnit-ext-p_store-upper, StorageUnit-ext-state_of_charge-lower, StorageUnit-ext-state_of_charge-upper, StorageUnit-energy_balance, pv_outage were not assigned to the network.\n"
     ]
    },
    {
     "data": {
      "text/plain": [
       "('ok', 'optimal')"
      ]
     },
     "execution_count": 392,
     "metadata": {},
     "output_type": "execute_result"
    }
   ],
   "source": [
    "n.optimize.solve_model(solver_name='cbc')"
   ]
  }
 ],
 "metadata": {
  "kernelspec": {
   "display_name": "pypsa-eur",
   "language": "python",
   "name": "python3"
  },
  "language_info": {
   "codemirror_mode": {
    "name": "ipython",
    "version": 3
   },
   "file_extension": ".py",
   "mimetype": "text/x-python",
   "name": "python",
   "nbconvert_exporter": "python",
   "pygments_lexer": "ipython3",
   "version": "3.10.11"
  },
  "orig_nbformat": 4
 },
 "nbformat": 4,
 "nbformat_minor": 2
}
